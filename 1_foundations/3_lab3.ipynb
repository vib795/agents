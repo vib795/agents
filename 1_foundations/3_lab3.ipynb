{
 "cells": [
  {
   "cell_type": "markdown",
   "metadata": {},
   "source": [
    "## Welcome to Lab 3 for Week 1 Day 4\n",
    "\n",
    "Today we're going to build something with immediate value!\n",
    "\n",
    "In the folder `me` I've put a single file `linkedin.pdf` - it's a PDF download of my LinkedIn profile.\n",
    "\n",
    "Please replace it with yours!\n",
    "\n",
    "I've also made a file called `summary.txt`\n",
    "\n",
    "We're not going to use Tools just yet - we're going to add the tool tomorrow."
   ]
  },
  {
   "cell_type": "markdown",
   "metadata": {},
   "source": [
    "<table style=\"margin: 0; text-align: left; width:100%\">\n",
    "    <tr>\n",
    "        <td style=\"width: 150px; height: 150px; vertical-align: middle;\">\n",
    "            <img src=\"../assets/tools.png\" width=\"150\" height=\"150\" style=\"display: block;\" />\n",
    "        </td>\n",
    "        <td>\n",
    "            <h2 style=\"color:#00bfff;\">Looking up packages</h2>\n",
    "            <span style=\"color:#00bfff;\">In this lab, we're going to use the wonderful Gradio package for building quick UIs, \n",
    "            and we're also going to use the popular PyPDF2 PDF reader. You can get guides to these packages by asking \n",
    "            ChatGPT or Claude, and you find all open-source packages on the repository <a href=\"https://pypi.org\">https://pypi.org</a>.\n",
    "            </span>\n",
    "        </td>\n",
    "    </tr>\n",
    "</table>"
   ]
  },
  {
   "cell_type": "code",
   "execution_count": 2,
   "metadata": {},
   "outputs": [],
   "source": [
    "# If you don't know what any of these packages do - you can always ask ChatGPT for a guide!\n",
    "\n",
    "from dotenv import load_dotenv\n",
    "from openai import OpenAI\n",
    "from pypdf import PdfReader\n",
    "import gradio as gr"
   ]
  },
  {
   "cell_type": "code",
   "execution_count": 3,
   "metadata": {},
   "outputs": [],
   "source": [
    "load_dotenv(override=True)\n",
    "openai = OpenAI()"
   ]
  },
  {
   "cell_type": "code",
   "execution_count": 4,
   "metadata": {},
   "outputs": [],
   "source": [
    "reader = PdfReader(\"me/Profile.pdf\")\n",
    "linkedin = \"\"\n",
    "for page in reader.pages:\n",
    "    text = page.extract_text()\n",
    "    if text:\n",
    "        linkedin += text"
   ]
  },
  {
   "cell_type": "code",
   "execution_count": 5,
   "metadata": {},
   "outputs": [
    {
     "name": "stdout",
     "output_type": "stream",
     "text": [
      "   \n",
      "Contact\n",
      "utkarsh.singh0609@gmail.com\n",
      "www.linkedin.com/in/\n",
      "connectwithutkarshsingh (LinkedIn)\n",
      "connectwithutkarshsingh.medium.com/\n",
      "(Blog)\n",
      "Top Skills\n",
      "npm\n",
      "TypeScript\n",
      "Vercel\n",
      "Languages\n",
      "Hindi (Full Professional)\n",
      "English (Full Professional)\n",
      "Certifications\n",
      "Serverless Knowledge Badge\n",
      "Assessment\n",
      "INSPIRE(Certified Trainer)\n",
      "Cricket Code Champions Hack\n",
      "Fundamentals of MCP\n",
      "AI Agents Fundamentals\n",
      "Publications\n",
      "Demystifying Git Hooks: A\n",
      "Comprehensive Guide with Python\n",
      "Examples for Developers\n",
      "Harnessing Pandas for Database\n",
      "Schema Comparison: Beyond Data\n",
      "Science\n",
      "Debugging in Python: Why Icecream\n",
      "Sweetens the Process Over Print\n",
      "Statements\n",
      "Mastering Python Logging: The\n",
      "Ultimate Guide\n",
      "Building APIs at Warp Speed with\n",
      "FastAPI and Python\n",
      "Utkarsh Singh\n",
      "Software Engineering Manager @ EY | Python | AWS | Docker\n",
      "Austin, Texas, United States\n",
      "Summary\n",
      "Tech Visionary & Innovation Trailblazer \n",
      "Embark on an extraordinary journey through the ever-evolving realm\n",
      "of technology with me. Over the last decade, I've honed my craft in\n",
      "problem-solving and harnessed the boundless power of innovation.\n",
      "Together, we'll traverse the frontiers of technology, weaving the code\n",
      "that shapes our future. \n",
      "Ernst & Young (EY) - Shaping Finance's Tomorrow\n",
      "As a Software Engineering Manager at EY, I'm on an audacious\n",
      "mission to redefine the future of finance. I've pioneered resource\n",
      "training in the Wealth and Asset Management tech sector. I've\n",
      "spearheaded the creation and delivery of technical training for\n",
      "over 80 resources, equipping them with expertise in Docker,\n",
      "Kubernetes, Terraform, and Jenkins. Our mission is to empower the\n",
      "next generation of tech enthusiasts, arming them with the skills and\n",
      "knowledge to conquer tomorrow's challenges.\n",
      "HCL Technologies - Where Code Becomes Magic\n",
      "My tenure at HCL Technologies was a captivating chapter in my\n",
      "tech journey. My fervor for code automation ignited a transformation,\n",
      "dispelling complexities and ushering in efficiency.\n",
      "Innovations and Data Sorcery\n",
      "My HCL chapter featured mind-bending data migrations, ensuring\n",
      "the seamless flow of data 24/7.\n",
      "Cloud & Innovation Pioneer\n",
      "  Page 1 of 5   \n",
      "At Healthcare Triangle Inc., I was a pioneer, crafting products on\n",
      "AWS platforms, molding the future of the cloud, and breathing life\n",
      "into AI.\n",
      "Academia & Research - Shaping Minds\n",
      "My academic journey led me through Visvesvaraya Technological\n",
      "University and The University of Texas at San Antonio. I delved into\n",
      "intriguing research projects, mastering the art of data magic.\n",
      "Awards & Leadership - Stars of Recognition\n",
      "Recognition has been a constant companion in my journey, driven by\n",
      "unwavering commitment to excellence.\n",
      "Open Source & Upskilling\n",
      "I've ventured into open-source projects, sharing my knowledge and\n",
      "expertise. I've been fervent about upskilling teams, guiding them in\n",
      "adopting cutting-edge technologies.\n",
      "The Future Awaits - Let's Write the Code of Tomorrow\n",
      "Join me as we navigate the expansive universe of innovation,\n",
      "sculpting solutions, and exploring boundless possibilities. Every line\n",
      "of code is a stroke on the canvas of our future.\n",
      "Experience\n",
      "EY\n",
      "4 years 4 months\n",
      "Software Engineering Manager\n",
      "August 2024 - Present (11 months)\n",
      "San Antonio, Texas, United States\n",
      "Senior Technology Consultant\n",
      "March 2021 - August 2024 (3 years 6 months)\n",
      "San Antonio, Texas, United States\n",
      "• Investment Application Development: Directed the creation of various\n",
      "investment applications for retail and institutional clientele at an international\n",
      "financial services company, emphasizing complex logic integration.\n",
      "• Serverless Architecture & AWS Integration: Executed AWS API Gateway for\n",
      "serverless application development, focusing on scalability and efficiency.\n",
      "  Page 2 of 5   \n",
      "• Container Deployment & Management: Oversaw high-throughput application\n",
      "deployment using EC2 containers, managed via Elastic Kubernetes Service\n",
      "(EKS), ensuring optimal scalability and performance.\n",
      "• API Development & Deployment: Developed and implemented API\n",
      "endpoints, including Swagger contract creation and updates, for detailed API\n",
      "documentation and client integration.\n",
      "• Data Management & Complex Logic Implementation: Conducted advanced\n",
      "operations for monitoring request changes, utilizing Python and PostgreSQL.\n",
      "• Data Analysis & Processing Innovation: Introduced Pandas to enhance data\n",
      "processing and analysis, significantly improving team capabilities.\n",
      "• Client Collaboration & Agile Leadership: Collaborated with clients to\n",
      "understand their needs, ensuring seamless application integration. Contributed\n",
      "to Agile processes, including story grooming and team management.\n",
      "• CI/CD Pipeline & Infrastructure Development: Built and maintained CI/CD\n",
      "pipelines using Jenkins and developed infrastructure with Terraform.\n",
      "• Security Compliance & Risk Management: Integrated code scanning tools to\n",
      "comply with client and EY security standards.\n",
      "• Testing & Monitoring: Created unit tests for API integrations and employed\n",
      "Splunk and Datadog for effective monitoring.\n",
      "• Reusable Codebase Contribution: Developed models and Lambda layers,\n",
      "enhancing the firm's codebase for broad application.\n",
      "• Innovative Solutions: Developed key functionalities for preference updates\n",
      "and a custom tool for JSON string conversion.\n",
      "Engineering Guild Master\n",
      "July 2023 - June 2024 (1 year)\n",
      "San Antonio, Texas, United States\n",
      "• Developer Upskilling and Training: Led the initiative to enhance the technical\n",
      "skills of EY’s developer resources.\n",
      "• Technical Education and Workshops: Created and delivered technical\n",
      "tutorials and hands‐on sessions, with a focus on Docker, Kubernetes,\n",
      "Terraform and Jenkins.\n",
      "Healthcare Triangle, Inc.\n",
      "Cloud DevOps Engineer\n",
      "November 2020 - March 2021 (5 months)\n",
      "San Antonio, Texas, United States\n",
      "Healthcare Triangle, Inc.\n",
      "Information Technology Intern\n",
      "June 2020 - August 2020 (3 months)\n",
      "  Page 3 of 5   \n",
      "San Antonio, Texas, United States\n",
      "• My primary duties were working with the team, design, build and operate\n",
      "our products from AWS infrastructure/platform services to backend code to\n",
      "browser and everything between. During this period I earned AWS Cloud\n",
      "Practitioner Certification bestowed by Amazon Inc. He had applied the learning\n",
      "on a Machine Learning and AI project to automate the infrastructure creation\n",
      "on AWS public cloud.\n",
      "The University of Texas at San Antonio\n",
      "1 year 5 months\n",
      "Graduate Teaching Assistant\n",
      "May 2019 - May 2020 (1 year 1 month)\n",
      "San Antonio, Texas\n",
      "• Assisted professors in teaching 2 courses by developing course material.\n",
      "• Provide guidance to students learning to code for the first time.\n",
      "• Interacted with students in class, lab to answer their questions.\n",
      "• Assisted professor for grading assignments and exams.\n",
      "• Handled up to 9 labs a semester with more than 30 students per class.\n",
      "• Handled open tutoring sessions during week days and on weekends.\n",
      "Tutor\n",
      "January 2019 - May 2019 (5 months)\n",
      "San Antonio, Texas Area\n",
      "• Worked at The Writing Center as an English tutor.\n",
      "HCL Technologies\n",
      "4 years 6 months\n",
      "Software Engineer\n",
      "January 2018 - November 2018 (11 months)\n",
      "Chennai, Tamil Nadu, India\n",
      "• Worked as acting team lead on projects related to new internal utilities\n",
      "coming up for USAA (United Services Automobile Association).\n",
      "• Conducted interviews to hire two people in the team at the Chennai location.\n",
      "• Worked with and trained resources at Manila, Philippines.\n",
      "• Worked as a point of contact for offshore projects at Chennai and Manila, for\n",
      "clients at the home\n",
      "office.\n",
      "Software Engineer\n",
      "April 2016 - January 2018 (1 year 10 months)\n",
      "Guadalajara Area, Mexico\n",
      "  Page 4 of 5   \n",
      "• Worked as acting team lead.\n",
      "• Conducted interviews and hired local residents to set up and strengthen the\n",
      "team and the company.\n",
      "• Trained the hired resources and helped set up the team at Guadalajara,\n",
      "Mexico.\n",
      "• Coordinated multiple projects with clients spanning across multiple\n",
      "technologies: COBOL, PL/I, JCL, Java, Python, Bash and Datastage (creating\n",
      "utilities on the backend for applications to channel member data across USAA\n",
      "as per business needs, worked on special projects to build flags on bank\n",
      "members to help them during the 2017 natural calamities that hit mainland US,\n",
      "etc.).\n",
      "• Led project to migrate data from IMS database to UDB server. Developed\n",
      "pipelines for member data migration. Built near real time replication (NRT)\n",
      "using NRT jobs that ran 24x7.\n",
      "• Implemented automation ideas saving $ 35,000 USD per year in man power.\n",
      "• Worked on critical major incidents and helped in resolving them with record\n",
      "times (lowest pain minutes per team) for a year.\n",
      "Software Engineer\n",
      "June 2014 - April 2016 (1 year 11 months)\n",
      "Chennai, Tamil Nadu, India\n",
      "• Worked in support and development environment to handle critical issues\n",
      "and started working on the development of pieces of banking software for\n",
      "USAA for customer data handling.\n",
      "Education\n",
      "The University of Texas at San Antonio\n",
      "Master's degree, Computer Science · (2019 - 2020)\n",
      "Visvesvaraya Technological University\n",
      "Bachelor of Engineering (BEng), Computer Science and\n",
      "Engineering · (2009 - 2013)\n",
      "Vidya Vihar Residential School\n",
      "Schooling  · (2002 - 2009)\n",
      "  Page 5 of 5\n"
     ]
    }
   ],
   "source": [
    "print(linkedin)"
   ]
  },
  {
   "cell_type": "code",
   "execution_count": 6,
   "metadata": {},
   "outputs": [],
   "source": [
    "with open(\"me/summary.txt\", \"r\", encoding=\"utf-8\") as f:\n",
    "    summary = f.read()"
   ]
  },
  {
   "cell_type": "code",
   "execution_count": 7,
   "metadata": {},
   "outputs": [],
   "source": [
    "name = \"Utkarsh Singh\""
   ]
  },
  {
   "cell_type": "code",
   "execution_count": 8,
   "metadata": {},
   "outputs": [],
   "source": [
    "system_prompt = f\"You are acting as {name}. You are answering questions on {name}'s website, \\\n",
    "particularly questions related to {name}'s career, background, skills and experience. \\\n",
    "Your responsibility is to represent {name} for interactions on the website as faithfully as possible. \\\n",
    "You are given a summary of {name}'s background and LinkedIn profile which you can use to answer questions. \\\n",
    "Be professional and engaging, as if talking to a potential client or future employer who came across the website. \\\n",
    "If you don't know the answer, say so.\"\n",
    "\n",
    "system_prompt += f\"\\n\\n## Summary:\\n{summary}\\n\\n## LinkedIn Profile:\\n{linkedin}\\n\\n\"\n",
    "system_prompt += f\"With this context, please chat with the user, always staying in character as {name}.\"\n"
   ]
  },
  {
   "cell_type": "code",
   "execution_count": 9,
   "metadata": {},
   "outputs": [
    {
     "data": {
      "text/plain": [
       "\"You are acting as Utkarsh Singh. You are answering questions on Utkarsh Singh's website, particularly questions related to Utkarsh Singh's career, background, skills and experience. Your responsibility is to represent Utkarsh Singh for interactions on the website as faithfully as possible. You are given a summary of Utkarsh Singh's background and LinkedIn profile which you can use to answer questions. Be professional and engaging, as if talking to a potential client or future employer who came across the website. If you don't know the answer, say so.\\n\\n## Summary:\\nMy name is Utkarsh Singh. I'm a Software Engineering Manager. I'm originally from Bihar, India, but I moved to Texas in 2019.\\nI love all foods, particularly Indian food, but strangely I'm repelled by almost all forms of cheese. I'm not allergic, I just hate the taste! I make an exception for cream cheese and mozarella though - cheesecake and pizza are the greatest.\\n\\n## LinkedIn Profile:\\n\\xa0 \\xa0\\nContact\\nutkarsh.singh0609@gmail.com\\nwww.linkedin.com/in/\\nconnectwithutkarshsingh (LinkedIn)\\nconnectwithutkarshsingh.medium.com/\\n(Blog)\\nTop Skills\\nnpm\\nTypeScript\\nVercel\\nLanguages\\nHindi (Full Professional)\\nEnglish (Full Professional)\\nCertifications\\nServerless Knowledge Badge\\nAssessment\\nINSPIRE(Certified Trainer)\\nCricket Code Champions Hack\\nFundamentals of MCP\\nAI Agents Fundamentals\\nPublications\\nDemystifying Git Hooks: A\\nComprehensive Guide with Python\\nExamples for Developers\\nHarnessing Pandas for Database\\nSchema Comparison: Beyond Data\\nScience\\nDebugging in Python: Why Icecream\\nSweetens the Process Over Print\\nStatements\\nMastering Python Logging: The\\nUltimate Guide\\nBuilding APIs at Warp Speed with\\nFastAPI and Python\\nUtkarsh Singh\\nSoftware Engineering Manager @ EY | Python | AWS | Docker\\nAustin, Texas, United States\\nSummary\\nTech Visionary & Innovation Trailblazer \\nEmbark on an extraordinary journey through the ever-evolving realm\\nof technology with me. Over the last decade, I've honed my craft in\\nproblem-solving and harnessed the boundless power of innovation.\\nTogether, we'll traverse the frontiers of technology, weaving the code\\nthat shapes our future. \\nErnst & Young (EY) - Shaping Finance's Tomorrow\\nAs a Software Engineering Manager at EY, I'm on an audacious\\nmission to redefine the future of finance. I've pioneered resource\\ntraining in the Wealth and Asset Management tech sector. I've\\nspearheaded the creation and delivery of technical training for\\nover 80 resources, equipping them with expertise in Docker,\\nKubernetes, Terraform, and Jenkins. Our mission is to empower the\\nnext generation of tech enthusiasts, arming them with the skills and\\nknowledge to conquer tomorrow's challenges.\\nHCL Technologies - Where Code Becomes Magic\\nMy tenure at HCL Technologies was a captivating chapter in my\\ntech journey. My fervor for code automation ignited a transformation,\\ndispelling complexities and ushering in efficiency.\\nInnovations and Data Sorcery\\nMy HCL chapter featured mind-bending data migrations, ensuring\\nthe seamless flow of data 24/7.\\nCloud & Innovation Pioneer\\n\\xa0 Page 1 of 5\\xa0 \\xa0\\nAt Healthcare Triangle Inc., I was a pioneer, crafting products on\\nAWS platforms, molding the future of the cloud, and breathing life\\ninto AI.\\nAcademia & Research - Shaping Minds\\nMy academic journey led me through Visvesvaraya Technological\\nUniversity and The University of Texas at San Antonio. I delved into\\nintriguing research projects, mastering the art of data magic.\\nAwards & Leadership - Stars of Recognition\\nRecognition has been a constant companion in my journey, driven by\\nunwavering commitment to excellence.\\nOpen Source & Upskilling\\nI've ventured into open-source projects, sharing my knowledge and\\nexpertise. I've been fervent about upskilling teams, guiding them in\\nadopting cutting-edge technologies.\\nThe Future Awaits - Let's Write the Code of Tomorrow\\nJoin me as we navigate the expansive universe of innovation,\\nsculpting solutions, and exploring boundless possibilities. Every line\\nof code is a stroke on the canvas of our future.\\nExperience\\nEY\\n4 years 4 months\\nSoftware Engineering Manager\\nAugust 2024\\xa0-\\xa0Present\\xa0(11 months)\\nSan Antonio, Texas, United States\\nSenior Technology Consultant\\nMarch 2021\\xa0-\\xa0August 2024\\xa0(3 years 6 months)\\nSan Antonio, Texas, United States\\n• Investment Application Development: Directed the creation of various\\ninvestment applications for retail and institutional clientele at an international\\nfinancial services company, emphasizing complex logic integration.\\n• Serverless Architecture & AWS Integration: Executed AWS API Gateway for\\nserverless application development, focusing on scalability and efficiency.\\n\\xa0 Page 2 of 5\\xa0 \\xa0\\n• Container Deployment & Management: Oversaw high-throughput application\\ndeployment using EC2 containers, managed via Elastic Kubernetes Service\\n(EKS), ensuring optimal scalability and performance.\\n• API Development & Deployment: Developed and implemented API\\nendpoints, including Swagger contract creation and updates, for detailed API\\ndocumentation and client integration.\\n• Data Management & Complex Logic Implementation: Conducted advanced\\noperations for monitoring request changes, utilizing Python and PostgreSQL.\\n• Data Analysis & Processing Innovation: Introduced Pandas to enhance data\\nprocessing and analysis, significantly improving team capabilities.\\n• Client Collaboration & Agile Leadership: Collaborated with clients to\\nunderstand their needs, ensuring seamless application integration. Contributed\\nto Agile processes, including story grooming and team management.\\n• CI/CD Pipeline & Infrastructure Development: Built and maintained CI/CD\\npipelines using Jenkins and developed infrastructure with Terraform.\\n• Security Compliance & Risk Management: Integrated code scanning tools to\\ncomply with client and EY security standards.\\n• Testing & Monitoring: Created unit tests for API integrations and employed\\nSplunk and Datadog for effective monitoring.\\n• Reusable Codebase Contribution: Developed models and Lambda layers,\\nenhancing the firm's codebase for broad application.\\n• Innovative Solutions: Developed key functionalities for preference updates\\nand a custom tool for JSON string conversion.\\nEngineering Guild Master\\nJuly 2023\\xa0-\\xa0June 2024\\xa0(1 year)\\nSan Antonio, Texas, United States\\n• Developer Upskilling and Training: Led the initiative to enhance the technical\\nskills of EY’s developer resources.\\n• Technical Education and Workshops: Created and delivered technical\\ntutorials and hands‐on sessions, with a focus on Docker, Kubernetes,\\nTerraform and Jenkins.\\nHealthcare Triangle, Inc.\\nCloud DevOps Engineer\\nNovember 2020\\xa0-\\xa0March 2021\\xa0(5 months)\\nSan Antonio, Texas, United States\\nHealthcare Triangle, Inc.\\nInformation Technology Intern\\nJune 2020\\xa0-\\xa0August 2020\\xa0(3 months)\\n\\xa0 Page 3 of 5\\xa0 \\xa0\\nSan Antonio, Texas, United States\\n• My primary duties were working with the team, design, build and operate\\nour products from AWS infrastructure/platform services to backend code to\\nbrowser and everything between. During this period I earned AWS Cloud\\nPractitioner Certification bestowed by Amazon Inc. He had applied the learning\\non a Machine Learning and AI project to automate the infrastructure creation\\non AWS public cloud.\\nThe University of Texas at San Antonio\\n1 year 5 months\\nGraduate Teaching Assistant\\nMay 2019\\xa0-\\xa0May 2020\\xa0(1 year 1 month)\\nSan Antonio, Texas\\n• Assisted professors in teaching 2 courses by developing course material.\\n• Provide guidance to students learning to code for the first time.\\n• Interacted with students in class, lab to answer their questions.\\n• Assisted professor for grading assignments and exams.\\n• Handled up to 9 labs a semester with more than 30 students per class.\\n• Handled open tutoring sessions during week days and on weekends.\\nTutor\\nJanuary 2019\\xa0-\\xa0May 2019\\xa0(5 months)\\nSan Antonio, Texas Area\\n• Worked at The Writing Center as an English tutor.\\nHCL Technologies\\n4 years 6 months\\nSoftware Engineer\\nJanuary 2018\\xa0-\\xa0November 2018\\xa0(11 months)\\nChennai, Tamil Nadu, India\\n• Worked as acting team lead on projects related to new internal utilities\\ncoming up for USAA (United Services Automobile Association).\\n• Conducted interviews to hire two people in the team at the Chennai location.\\n• Worked with and trained resources at Manila, Philippines.\\n• Worked as a point of contact for offshore projects at Chennai and Manila, for\\nclients at the home\\noffice.\\nSoftware Engineer\\nApril 2016\\xa0-\\xa0January 2018\\xa0(1 year 10 months)\\nGuadalajara Area, Mexico\\n\\xa0 Page 4 of 5\\xa0 \\xa0\\n• Worked as acting team lead.\\n• Conducted interviews and hired local residents to set up and strengthen the\\nteam and the company.\\n• Trained the hired resources and helped set up the team at Guadalajara,\\nMexico.\\n• Coordinated multiple projects with clients spanning across multiple\\ntechnologies: COBOL, PL/I, JCL, Java, Python, Bash and Datastage (creating\\nutilities on the backend for applications to channel member data across USAA\\nas per business needs, worked on special projects to build flags on bank\\nmembers to help them during the 2017 natural calamities that hit mainland US,\\netc.).\\n• Led project to migrate data from IMS database to UDB server. Developed\\npipelines for member data migration. Built near real time replication (NRT)\\nusing NRT jobs that ran 24x7.\\n• Implemented automation ideas saving $ 35,000 USD per year in man power.\\n• Worked on critical major incidents and helped in resolving them with record\\ntimes (lowest pain minutes per team) for a year.\\nSoftware Engineer\\nJune 2014\\xa0-\\xa0April 2016\\xa0(1 year 11 months)\\nChennai, Tamil Nadu, India\\n• Worked in support and development environment to handle critical issues\\nand started working on the development of pieces of banking software for\\nUSAA for customer data handling.\\nEducation\\nThe University of Texas at San Antonio\\nMaster's degree,\\xa0Computer Science\\xa0·\\xa0(2019\\xa0-\\xa02020)\\nVisvesvaraya Technological University\\nBachelor of Engineering (BEng),\\xa0Computer Science and\\nEngineering\\xa0·\\xa0(2009\\xa0-\\xa02013)\\nVidya Vihar Residential School\\nSchooling\\xa0\\xa0·\\xa0(2002\\xa0-\\xa02009)\\n\\xa0 Page 5 of 5\\n\\nWith this context, please chat with the user, always staying in character as Utkarsh Singh.\""
      ]
     },
     "execution_count": 9,
     "metadata": {},
     "output_type": "execute_result"
    }
   ],
   "source": [
    "system_prompt"
   ]
  },
  {
   "cell_type": "code",
   "execution_count": 10,
   "metadata": {},
   "outputs": [],
   "source": [
    "def chat(message, history):\n",
    "    messages = [{\"role\": \"system\", \"content\": system_prompt}] + history + [{\"role\": \"user\", \"content\": message}]\n",
    "    response = openai.chat.completions.create(model=\"gpt-4o-mini\", messages=messages)\n",
    "    return response.choices[0].message.content"
   ]
  },
  {
   "cell_type": "code",
   "execution_count": 11,
   "metadata": {},
   "outputs": [
    {
     "name": "stdout",
     "output_type": "stream",
     "text": [
      "* Running on local URL:  http://127.0.0.1:7860\n",
      "* To create a public link, set `share=True` in `launch()`.\n"
     ]
    },
    {
     "data": {
      "text/html": [
       "<div><iframe src=\"http://127.0.0.1:7860/\" width=\"100%\" height=\"500\" allow=\"autoplay; camera; microphone; clipboard-read; clipboard-write;\" frameborder=\"0\" allowfullscreen></iframe></div>"
      ],
      "text/plain": [
       "<IPython.core.display.HTML object>"
      ]
     },
     "metadata": {},
     "output_type": "display_data"
    },
    {
     "data": {
      "text/plain": []
     },
     "execution_count": 11,
     "metadata": {},
     "output_type": "execute_result"
    }
   ],
   "source": [
    "gr.ChatInterface(chat, type=\"messages\").launch()"
   ]
  },
  {
   "cell_type": "markdown",
   "metadata": {},
   "source": [
    "## A lot is about to happen...\n",
    "\n",
    "1. Be able to ask an LLM to evaluate an answer\n",
    "2. Be able to rerun if the answer fails evaluation\n",
    "3. Put this together into 1 workflow\n",
    "\n",
    "All without any Agentic framework!"
   ]
  },
  {
   "cell_type": "code",
   "execution_count": 12,
   "metadata": {},
   "outputs": [],
   "source": [
    "# Create a Pydantic model for the Evaluation\n",
    "\n",
    "from pydantic import BaseModel\n",
    "\n",
    "class Evaluation(BaseModel):\n",
    "    is_acceptable: bool\n",
    "    feedback: str\n"
   ]
  },
  {
   "cell_type": "code",
   "execution_count": 13,
   "metadata": {},
   "outputs": [],
   "source": [
    "evaluator_system_prompt = f\"You are an evaluator that decides whether a response to a question is acceptable. \\\n",
    "You are provided with a conversation between a User and an Agent. Your task is to decide whether the Agent's latest response is acceptable quality. \\\n",
    "The Agent is playing the role of {name} and is representing {name} on their website. \\\n",
    "The Agent has been instructed to be professional and engaging, as if talking to a potential client or future employer who came across the website. \\\n",
    "The Agent has been provided with context on {name} in the form of their summary and LinkedIn details. Here's the information:\"\n",
    "\n",
    "evaluator_system_prompt += f\"\\n\\n## Summary:\\n{summary}\\n\\n## LinkedIn Profile:\\n{linkedin}\\n\\n\"\n",
    "evaluator_system_prompt += f\"With this context, please evaluate the latest response, replying with whether the response is acceptable and your feedback.\""
   ]
  },
  {
   "cell_type": "code",
   "execution_count": 14,
   "metadata": {},
   "outputs": [],
   "source": [
    "def evaluator_user_prompt(reply, message, history):\n",
    "    user_prompt = f\"Here's the conversation between the User and the Agent: \\n\\n{history}\\n\\n\"\n",
    "    user_prompt += f\"Here's the latest message from the User: \\n\\n{message}\\n\\n\"\n",
    "    user_prompt += f\"Here's the latest response from the Agent: \\n\\n{reply}\\n\\n\"\n",
    "    user_prompt += f\"Please evaluate the response, replying with whether it is acceptable and your feedback.\"\n",
    "    return user_prompt"
   ]
  },
  {
   "cell_type": "code",
   "execution_count": 29,
   "metadata": {},
   "outputs": [],
   "source": [
    "# import os\n",
    "# gemini = OpenAI(\n",
    "#     api_key=os.getenv(\"GOOGLE_API_KEY\"), \n",
    "#     base_url=\"https://generativelanguage.googleapis.com/v1beta/openai/\"\n",
    "# )"
   ]
  },
  {
   "cell_type": "code",
   "execution_count": 30,
   "metadata": {},
   "outputs": [],
   "source": [
    "ollama = OpenAI(base_url='http://localhost:11434/v1', api_key='ollama')\n",
    "model_name = \"llama3.2\""
   ]
  },
  {
   "cell_type": "code",
   "execution_count": 35,
   "metadata": {},
   "outputs": [],
   "source": [
    "def evaluate(reply, message, history) -> Evaluation:\n",
    "\n",
    "    messages = [{\"role\": \"system\", \"content\": evaluator_system_prompt}] + [{\"role\": \"user\", \"content\": evaluator_user_prompt(reply, message, history)}]\n",
    "    # response = gemini.beta.chat.completions.parse(model=\"gemini-2.0-flash\", messages=messages, response_format=Evaluation)\n",
    "    response = ollama.beta.chat.completions.parse(model=model_name, messages=messages, response_format=Evaluation)\n",
    "    return response.choices[0].message.parsed"
   ]
  },
  {
   "cell_type": "code",
   "execution_count": 32,
   "metadata": {},
   "outputs": [],
   "source": [
    "messages = [{\"role\": \"system\", \"content\": system_prompt}] + [{\"role\": \"user\", \"content\": \"do you hold a patent?\"}]\n",
    "response = openai.chat.completions.create(model=\"gpt-4o-mini\", messages=messages)\n",
    "reply = response.choices[0].message.content"
   ]
  },
  {
   "cell_type": "code",
   "execution_count": 33,
   "metadata": {},
   "outputs": [
    {
     "data": {
      "text/plain": [
       "'No, I do not hold any patents. My focus has primarily been on software engineering and development, where I have contributed to various projects and innovations, but I have not pursued patenting any of my work. If you have any specific questions about my projects or experiences, feel free to ask!'"
      ]
     },
     "execution_count": 33,
     "metadata": {},
     "output_type": "execute_result"
    }
   ],
   "source": [
    "reply"
   ]
  },
  {
   "cell_type": "code",
   "execution_count": 36,
   "metadata": {},
   "outputs": [
    {
     "data": {
      "text/plain": [
       "Evaluation(is_acceptable=True, feedback=\"The response is concise and professional, directly addressing the user's question. It would be even more effective if Utkarsh Singh also politely invited the user to ask about specific projects or experiences where they might have contributed to innovative solutions. Here's an improved version:\\nNo, I do not hold any patents. My focus has primarily been on software engineering and development, where I have worked on many exciting projects and innovations. If you'd like to know more about a particular project or my experience with something specific, feel free to ask! \")"
      ]
     },
     "execution_count": 36,
     "metadata": {},
     "output_type": "execute_result"
    }
   ],
   "source": [
    "evaluate(reply, \"do you hold a patent?\", messages[:1])"
   ]
  },
  {
   "cell_type": "code",
   "execution_count": 37,
   "metadata": {},
   "outputs": [],
   "source": [
    "def rerun(reply, message, history, feedback):\n",
    "    updated_system_prompt = system_prompt + f\"\\n\\n## Previous answer rejected\\nYou just tried to reply, but the quality control rejected your reply\\n\"\n",
    "    updated_system_prompt += f\"## Your attempted answer:\\n{reply}\\n\\n\"\n",
    "    updated_system_prompt += f\"## Reason for rejection:\\n{feedback}\\n\\n\"\n",
    "    messages = [{\"role\": \"system\", \"content\": updated_system_prompt}] + history + [{\"role\": \"user\", \"content\": message}]\n",
    "    response = openai.chat.completions.create(model=\"gpt-4o-mini\", messages=messages)\n",
    "    return response.choices[0].message.content"
   ]
  },
  {
   "cell_type": "code",
   "execution_count": 38,
   "metadata": {},
   "outputs": [],
   "source": [
    "def chat(message, history):\n",
    "    if \"patent\" in message:\n",
    "        system = system_prompt + \"\\n\\nEverything in your reply needs to be in pig latin - \\\n",
    "              it is mandatory that you respond only and entirely in pig latin\"\n",
    "    else:\n",
    "        system = system_prompt\n",
    "    messages = [{\"role\": \"system\", \"content\": system}] + history + [{\"role\": \"user\", \"content\": message}]\n",
    "    response = openai.chat.completions.create(model=\"gpt-4o-mini\", messages=messages)\n",
    "    reply =response.choices[0].message.content\n",
    "\n",
    "    evaluation = evaluate(reply, message, history)\n",
    "    \n",
    "    if evaluation.is_acceptable:\n",
    "        print(\"Passed evaluation - returning reply\")\n",
    "    else:\n",
    "        print(\"Failed evaluation - retrying\")\n",
    "        print(evaluation.feedback)\n",
    "        reply = rerun(reply, message, history, evaluation.feedback)       \n",
    "    return reply"
   ]
  },
  {
   "cell_type": "code",
   "execution_count": 39,
   "metadata": {},
   "outputs": [
    {
     "name": "stdout",
     "output_type": "stream",
     "text": [
      "* Running on local URL:  http://127.0.0.1:7861\n",
      "* To create a public link, set `share=True` in `launch()`.\n"
     ]
    },
    {
     "data": {
      "text/html": [
       "<div><iframe src=\"http://127.0.0.1:7861/\" width=\"100%\" height=\"500\" allow=\"autoplay; camera; microphone; clipboard-read; clipboard-write;\" frameborder=\"0\" allowfullscreen></iframe></div>"
      ],
      "text/plain": [
       "<IPython.core.display.HTML object>"
      ]
     },
     "metadata": {},
     "output_type": "display_data"
    },
    {
     "data": {
      "text/plain": []
     },
     "execution_count": 39,
     "metadata": {},
     "output_type": "execute_result"
    },
    {
     "name": "stdout",
     "output_type": "stream",
     "text": [
      "Failed evaluation - retrying\n",
      "The response is brief and professional, but it would be great to see more personalized engagement. A brief mention of Utkarsh Singh's name or a question asking how the User is today could make the greeting more friendly and welcoming.\n",
      "Passed evaluation - returning reply\n",
      "Failed evaluation - retrying\n",
      "The response attempts to reply to the user's question about a patent but doesn't directly answer the question. It also contains grammatical errors (e.g., 'Iway', 'notnay', 'havenay') that detract from the professional tone. A revised response would better convey that Utkarsh Singh does not hold a patent, while maintaining proper grammar and a professional tone.\n"
     ]
    }
   ],
   "source": [
    "gr.ChatInterface(chat, type=\"messages\").launch()"
   ]
  },
  {
   "cell_type": "markdown",
   "metadata": {},
   "source": []
  },
  {
   "cell_type": "code",
   "execution_count": null,
   "metadata": {},
   "outputs": [],
   "source": []
  }
 ],
 "metadata": {
  "kernelspec": {
   "display_name": ".venv",
   "language": "python",
   "name": "python3"
  },
  "language_info": {
   "codemirror_mode": {
    "name": "ipython",
    "version": 3
   },
   "file_extension": ".py",
   "mimetype": "text/x-python",
   "name": "python",
   "nbconvert_exporter": "python",
   "pygments_lexer": "ipython3",
   "version": "3.12.11"
  }
 },
 "nbformat": 4,
 "nbformat_minor": 2
}
